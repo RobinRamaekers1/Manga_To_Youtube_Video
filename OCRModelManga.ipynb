{
 "cells": [
  {
   "cell_type": "code",
   "execution_count": 1,
   "metadata": {},
   "outputs": [
    {
     "name": "stdout",
     "output_type": "stream",
     "text": [
      "Collecting easyocr\n",
      "  Using cached easyocr-1.7.0-py3-none-any.whl (2.9 MB)\n",
      "Requirement already satisfied: torch in c:\\users\\robin\\appdata\\local\\programs\\python\\python311\\lib\\site-packages (from easyocr) (2.0.1)\n",
      "Requirement already satisfied: torchvision>=0.5 in c:\\users\\robin\\appdata\\local\\programs\\python\\python311\\lib\\site-packages (from easyocr) (0.15.2)\n",
      "Collecting opencv-python-headless\n",
      "  Using cached opencv_python_headless-4.8.0.76-cp37-abi3-win_amd64.whl (38.0 MB)\n",
      "Requirement already satisfied: scipy in c:\\users\\robin\\appdata\\local\\programs\\python\\python311\\lib\\site-packages (from easyocr) (1.10.1)\n",
      "Requirement already satisfied: numpy in c:\\users\\robin\\appdata\\local\\programs\\python\\python311\\lib\\site-packages (from easyocr) (1.23.5)\n",
      "Requirement already satisfied: Pillow in c:\\users\\robin\\appdata\\local\\programs\\python\\python311\\lib\\site-packages (from easyocr) (9.5.0)\n",
      "Collecting scikit-image\n",
      "  Using cached scikit_image-0.21.0-cp311-cp311-win_amd64.whl (22.8 MB)\n",
      "Requirement already satisfied: python-bidi in c:\\users\\robin\\appdata\\local\\programs\\python\\python311\\lib\\site-packages (from easyocr) (0.4.2)\n",
      "Requirement already satisfied: PyYAML in c:\\users\\robin\\appdata\\local\\programs\\python\\python311\\lib\\site-packages (from easyocr) (6.0)\n",
      "Requirement already satisfied: Shapely in c:\\users\\robin\\appdata\\local\\programs\\python\\python311\\lib\\site-packages (from easyocr) (2.0.1)\n",
      "Requirement already satisfied: pyclipper in c:\\users\\robin\\appdata\\local\\programs\\python\\python311\\lib\\site-packages (from easyocr) (1.3.0.post4)\n",
      "Requirement already satisfied: ninja in c:\\users\\robin\\appdata\\local\\programs\\python\\python311\\lib\\site-packages (from easyocr) (1.11.1)\n",
      "Requirement already satisfied: requests in c:\\users\\robin\\appdata\\local\\programs\\python\\python311\\lib\\site-packages (from torchvision>=0.5->easyocr) (2.28.2)\n",
      "Requirement already satisfied: filelock in c:\\users\\robin\\appdata\\local\\programs\\python\\python311\\lib\\site-packages (from torch->easyocr) (3.10.7)\n",
      "Requirement already satisfied: typing-extensions in c:\\users\\robin\\appdata\\local\\programs\\python\\python311\\lib\\site-packages (from torch->easyocr) (4.5.0)\n",
      "Requirement already satisfied: sympy in c:\\users\\robin\\appdata\\local\\programs\\python\\python311\\lib\\site-packages (from torch->easyocr) (1.11.1)\n",
      "Requirement already satisfied: networkx in c:\\users\\robin\\appdata\\local\\programs\\python\\python311\\lib\\site-packages (from torch->easyocr) (3.0)\n",
      "Requirement already satisfied: jinja2 in c:\\users\\robin\\appdata\\local\\programs\\python\\python311\\lib\\site-packages (from torch->easyocr) (3.1.2)\n",
      "Requirement already satisfied: six in c:\\users\\robin\\appdata\\roaming\\python\\python311\\site-packages (from python-bidi->easyocr) (1.16.0)\n",
      "Collecting imageio>=2.27\n",
      "  Using cached imageio-2.31.2-py3-none-any.whl (313 kB)\n",
      "Requirement already satisfied: tifffile>=2022.8.12 in c:\\users\\robin\\appdata\\local\\programs\\python\\python311\\lib\\site-packages (from scikit-image->easyocr) (2023.8.25)\n",
      "Requirement already satisfied: PyWavelets>=1.1.1 in c:\\users\\robin\\appdata\\local\\programs\\python\\python311\\lib\\site-packages (from scikit-image->easyocr) (1.4.1)\n",
      "Requirement already satisfied: packaging>=21 in c:\\users\\robin\\appdata\\roaming\\python\\python311\\site-packages (from scikit-image->easyocr) (23.0)\n",
      "Requirement already satisfied: lazy_loader>=0.2 in c:\\users\\robin\\appdata\\local\\programs\\python\\python311\\lib\\site-packages (from scikit-image->easyocr) (0.2)\n",
      "Requirement already satisfied: MarkupSafe>=2.0 in c:\\users\\robin\\appdata\\local\\programs\\python\\python311\\lib\\site-packages (from jinja2->torch->easyocr) (2.1.2)\n",
      "Requirement already satisfied: charset-normalizer<4,>=2 in c:\\users\\robin\\appdata\\local\\programs\\python\\python311\\lib\\site-packages (from requests->torchvision>=0.5->easyocr) (3.1.0)\n",
      "Requirement already satisfied: idna<4,>=2.5 in c:\\users\\robin\\appdata\\local\\programs\\python\\python311\\lib\\site-packages (from requests->torchvision>=0.5->easyocr) (3.4)\n",
      "Requirement already satisfied: urllib3<1.27,>=1.21.1 in c:\\users\\robin\\appdata\\local\\programs\\python\\python311\\lib\\site-packages (from requests->torchvision>=0.5->easyocr) (1.26.15)\n",
      "Requirement already satisfied: certifi>=2017.4.17 in c:\\users\\robin\\appdata\\local\\programs\\python\\python311\\lib\\site-packages (from requests->torchvision>=0.5->easyocr) (2022.12.7)\n",
      "Requirement already satisfied: mpmath>=0.19 in c:\\users\\robin\\appdata\\local\\programs\\python\\python311\\lib\\site-packages (from sympy->torch->easyocr) (1.3.0)\n",
      "Installing collected packages: opencv-python-headless, imageio, scikit-image, easyocr\n",
      "Successfully installed easyocr-1.7.0 imageio-2.31.2 opencv-python-headless-4.8.0.76 scikit-image-0.21.0\n",
      "Note: you may need to restart the kernel to use updated packages.\n"
     ]
    },
    {
     "name": "stderr",
     "output_type": "stream",
     "text": [
      "\n",
      "[notice] A new release of pip available: 22.3.1 -> 23.2.1\n",
      "[notice] To update, run: python.exe -m pip install --upgrade pip\n"
     ]
    }
   ],
   "source": [
    "%pip install easyocr"
   ]
  },
  {
   "cell_type": "code",
   "execution_count": 2,
   "metadata": {},
   "outputs": [],
   "source": [
    "import os\n",
    "import numpy as np\n",
    "import tensorflow as tf\n",
    "from tensorflow.keras.layers import Conv2D, MaxPooling2D, Flatten, Dense, LSTM, Bidirectional, TimeDistributed, Embedding, Attention\n",
    "from PIL import Image\n",
    "from tensorflow.keras.layers import Input\n",
    "import easyocr"
   ]
  },
  {
   "cell_type": "code",
   "execution_count": 3,
   "metadata": {},
   "outputs": [
    {
     "name": "stderr",
     "output_type": "stream",
     "text": [
      "Neither CUDA nor MPS are available - defaulting to CPU. Note: This module is much faster with a GPU.\n",
      "Downloading detection model, please wait. This may take several minutes depending upon your network connection.\n"
     ]
    },
    {
     "name": "stdout",
     "output_type": "stream",
     "text": [
      "Progress: |██████████████████████████████████████████████████| 100.0% Complete"
     ]
    },
    {
     "name": "stderr",
     "output_type": "stream",
     "text": [
      "Downloading recognition model, please wait. This may take several minutes depending upon your network connection.\n"
     ]
    },
    {
     "name": "stdout",
     "output_type": "stream",
     "text": [
      "Progress: |██████████████████████████████████████████████████| 100.0% CompleteESTABLISHED\n",
      "MANY YEARS\n",
      "AGO TO\n",
      "SERVE THE\n",
      "shuchiin\n",
      "ThIS\n",
      "NOBLE AND\n",
      "ACADEMY\n",
      "PREStIGIOUs\n",
      "WARRIOR\n",
      "EDUCATIONAL\n",
      "CLASSES__\n",
      "INSTITUTION\n",
      "HAS AN\n",
      "ALGLSt\n",
      "REPUTATIONL\n",
      "EVEN Now;\n",
      "AFTER THE\n",
      "ABOLISH-\n",
      "~THE\n",
      "MENT OF\n",
      "FUTLRE\n",
      "THE CLASS\n",
      "LEADERS\n",
      "THE\n",
      "SYSTEM;_\n",
      "OF THE\n",
      "CHILDREN\n",
      "COUNTRY,\n",
      "OF THE\n",
      "RICH AND\n",
      "Ohl\n",
      "ATTEND\n",
      "FAMOLS___\n",
      "ThIS\n",
      "SCHOOL;\n",
      "AND-STUDENTS SUCHAS THESE\n",
      "CAN ONLY BE LED BY__\n",
      "HeY,\n",
      "EVERY-\n",
      "BODY!\n",
      "LooKi\n",
      "ZHBTULY\n",
      "EXTRAORDINARY\n"
     ]
    }
   ],
   "source": [
    "# Create an OCR reader\n",
    "reader = easyocr.Reader(lang_list=['en'])\n",
    "\n",
    "# Load an image and perform OCR\n",
    "results = reader.readtext('./manga_images/page5.jpg')\n",
    "\n",
    "# Print the extracted text\n",
    "for detection in results:\n",
    "    text = detection[1]\n",
    "    print(text)"
   ]
  }
 ],
 "metadata": {
  "kernelspec": {
   "display_name": "Python 3",
   "language": "python",
   "name": "python3"
  },
  "language_info": {
   "codemirror_mode": {
    "name": "ipython",
    "version": 3
   },
   "file_extension": ".py",
   "mimetype": "text/x-python",
   "name": "python",
   "nbconvert_exporter": "python",
   "pygments_lexer": "ipython3",
   "version": "3.11.2"
  },
  "orig_nbformat": 4
 },
 "nbformat": 4,
 "nbformat_minor": 2
}
