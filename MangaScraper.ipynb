{
 "cells": [
  {
   "cell_type": "code",
   "execution_count": null,
   "metadata": {},
   "outputs": [],
   "source": [
    "%pip install selenium"
   ]
  },
  {
   "cell_type": "code",
   "execution_count": 1,
   "metadata": {},
   "outputs": [],
   "source": [
    "import os\n",
    "import time\n",
    "from selenium import webdriver\n",
    "from selenium.webdriver.common.by import By\n",
    "from selenium.webdriver.support.select import Select\n",
    "import urllib\n",
    "import requests"
   ]
  },
  {
   "cell_type": "code",
   "execution_count": 2,
   "metadata": {},
   "outputs": [],
   "source": [
    "chromedriver_path = 'C:\\Program Files\\webdrivers\\chromedriver.exe'"
   ]
  },
  {
   "cell_type": "code",
   "execution_count": 3,
   "metadata": {},
   "outputs": [],
   "source": [
    "volume = str(input(\"Enter Volume number: \"))\n",
    "manga_url = \"https://mangafire.to/read/kaguya-sama-wo-kataritai2.2o1q/en/volume-\"+volume"
   ]
  },
  {
   "cell_type": "code",
   "execution_count": 4,
   "metadata": {},
   "outputs": [],
   "source": [
    "if not os.path.exists(\"manga_images\"):\n",
    "    os.makedirs(\"manga_images\")"
   ]
  },
  {
   "cell_type": "code",
   "execution_count": 5,
   "metadata": {},
   "outputs": [],
   "source": [
    "options = webdriver.ChromeOptions()\n",
    "# Uncomment the following line to run Chrome in headless mode (no GUI)\n",
    "# options.add_argument(\"--headless\")\n",
    "driver = webdriver.Chrome(options=options)\n",
    "# Navigate to the manga URL\n",
    "driver.get(manga_url)"
   ]
  },
  {
   "cell_type": "markdown",
   "metadata": {},
   "source": [
    "//*[@id=\"manga-viewer\"]/div[1]/div/div[3]/div[3]/div/img\n",
    "//*[@id=\"manga-viewer\"]/div[1]/div/div[3]/div[10]/div/img"
   ]
  },
  {
   "cell_type": "code",
   "execution_count": 6,
   "metadata": {},
   "outputs": [
    {
     "name": "stdout",
     "output_type": "stream",
     "text": [
      "page 1 downloaded succesfully\n",
      "page 2 downloaded succesfully\n",
      "Skipping blob image on page 3\n",
      "page 4 downloaded succesfully\n",
      "page 5 downloaded succesfully\n"
     ]
    },
    {
     "ename": "KeyboardInterrupt",
     "evalue": "",
     "output_type": "error",
     "traceback": [
      "\u001b[1;31m---------------------------------------------------------------------------\u001b[0m",
      "\u001b[1;31mKeyboardInterrupt\u001b[0m                         Traceback (most recent call last)",
      "Cell \u001b[1;32mIn[6], line 20\u001b[0m\n\u001b[0;32m     18\u001b[0m next_page_button \u001b[39m=\u001b[39m driver\u001b[39m.\u001b[39mfind_element(By\u001b[39m.\u001b[39mXPATH, \u001b[39m'\u001b[39m\u001b[39m//*[@id=\u001b[39m\u001b[39m\"\u001b[39m\u001b[39mmanga-viewer\u001b[39m\u001b[39m\"\u001b[39m\u001b[39m]/div[3]/div[3]/button\u001b[39m\u001b[39m'\u001b[39m)\n\u001b[0;32m     19\u001b[0m next_page_button\u001b[39m.\u001b[39mclick()\n\u001b[1;32m---> 20\u001b[0m time\u001b[39m.\u001b[39;49msleep(\u001b[39m2\u001b[39;49m)\n",
      "\u001b[1;31mKeyboardInterrupt\u001b[0m: "
     ]
    }
   ],
   "source": [
    "missing_pages=[]\n",
    "for i in range(1,212):\n",
    "    img = driver.find_element(By.XPATH,'//*[@id=\"manga-viewer\"]/div[1]/div/div[3]/div['+str(i)+']/div/img')\n",
    "    src = img.get_attribute('src')\n",
    "\n",
    "    if src.startswith('blob:'):\n",
    "        print(f\"Skipping blob image on page {i}\")\n",
    "        missing_pages.append(i)\n",
    "        next_page_button = driver.find_element(By.XPATH, '//*[@id=\"manga-viewer\"]/div[3]/div[3]/button')\n",
    "        next_page_button.click()\n",
    "        continue\n",
    "\n",
    "    image_data = requests.get(src).content\n",
    "    image_path = os.path.join(\"manga_images\", \"Volume\"+volume+\"Page\"+str(i)+\".jpg\")  # Change the filename as needed\n",
    "    with open(image_path, \"wb\") as image_file:\n",
    "        image_file.write(image_data)\n",
    "    print(f\"page {i} downloaded succesfully\")    \n",
    "    next_page_button = driver.find_element(By.XPATH, '//*[@id=\"manga-viewer\"]/div[3]/div[3]/button')\n",
    "    next_page_button.click()\n",
    "    time.sleep(2)"
   ]
  },
  {
   "cell_type": "code",
   "execution_count": null,
   "metadata": {},
   "outputs": [],
   "source": [
    "driver.quit()"
   ]
  }
 ],
 "metadata": {
  "kernelspec": {
   "display_name": "Python 3",
   "language": "python",
   "name": "python3"
  },
  "language_info": {
   "codemirror_mode": {
    "name": "ipython",
    "version": 3
   },
   "file_extension": ".py",
   "mimetype": "text/x-python",
   "name": "python",
   "nbconvert_exporter": "python",
   "pygments_lexer": "ipython3",
   "version": "3.11.2"
  },
  "orig_nbformat": 4
 },
 "nbformat": 4,
 "nbformat_minor": 2
}
